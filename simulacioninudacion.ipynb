{
  "nbformat": 4,
  "nbformat_minor": 0,
  "metadata": {
    "colab": {
      "provenance": [],
      "authorship_tag": "ABX9TyOagIvi1cT+DZYKbwdafFPR",
      "include_colab_link": true
    },
    "kernelspec": {
      "name": "python3",
      "display_name": "Python 3"
    },
    "language_info": {
      "name": "python"
    }
  },
  "cells": [
    {
      "cell_type": "markdown",
      "metadata": {
        "id": "view-in-github",
        "colab_type": "text"
      },
      "source": [
        "<a href=\"https://colab.research.google.com/github/eddycc66/inundaci-n/blob/master/simulacioninudacion.ipynb\" target=\"_parent\"><img src=\"https://colab.research.google.com/assets/colab-badge.svg\" alt=\"Open In Colab\"/></a>"
      ]
    },
    {
      "cell_type": "code",
      "execution_count": null,
      "metadata": {
        "colab": {
          "base_uri": "https://localhost:8080/"
        },
        "id": "6k68QQ8uWaZX",
        "outputId": "b002be2f-41f6-4aab-bb37-b46023c6ded9"
      },
      "outputs": [
        {
          "output_type": "stream",
          "name": "stdout",
          "text": [
            "Requirement already satisfied: geopandas in /usr/local/lib/python3.11/dist-packages (1.0.1)\n",
            "Requirement already satisfied: rasterio in /usr/local/lib/python3.11/dist-packages (1.4.3)\n",
            "Requirement already satisfied: imageio in /usr/local/lib/python3.11/dist-packages (2.37.0)\n",
            "Requirement already satisfied: numpy>=1.22 in /usr/local/lib/python3.11/dist-packages (from geopandas) (2.0.2)\n",
            "Requirement already satisfied: pyogrio>=0.7.2 in /usr/local/lib/python3.11/dist-packages (from geopandas) (0.10.0)\n",
            "Requirement already satisfied: packaging in /usr/local/lib/python3.11/dist-packages (from geopandas) (24.2)\n",
            "Requirement already satisfied: pandas>=1.4.0 in /usr/local/lib/python3.11/dist-packages (from geopandas) (2.2.2)\n",
            "Requirement already satisfied: pyproj>=3.3.0 in /usr/local/lib/python3.11/dist-packages (from geopandas) (3.7.1)\n",
            "Requirement already satisfied: shapely>=2.0.0 in /usr/local/lib/python3.11/dist-packages (from geopandas) (2.1.0)\n",
            "Requirement already satisfied: affine in /usr/local/lib/python3.11/dist-packages (from rasterio) (2.4.0)\n",
            "Requirement already satisfied: attrs in /usr/local/lib/python3.11/dist-packages (from rasterio) (25.3.0)\n",
            "Requirement already satisfied: certifi in /usr/local/lib/python3.11/dist-packages (from rasterio) (2025.4.26)\n",
            "Requirement already satisfied: click>=4.0 in /usr/local/lib/python3.11/dist-packages (from rasterio) (8.1.8)\n",
            "Requirement already satisfied: cligj>=0.5 in /usr/local/lib/python3.11/dist-packages (from rasterio) (0.7.2)\n",
            "Requirement already satisfied: click-plugins in /usr/local/lib/python3.11/dist-packages (from rasterio) (1.1.1)\n",
            "Requirement already satisfied: pyparsing in /usr/local/lib/python3.11/dist-packages (from rasterio) (3.2.3)\n",
            "Requirement already satisfied: pillow>=8.3.2 in /usr/local/lib/python3.11/dist-packages (from imageio) (11.2.1)\n",
            "Requirement already satisfied: python-dateutil>=2.8.2 in /usr/local/lib/python3.11/dist-packages (from pandas>=1.4.0->geopandas) (2.9.0.post0)\n",
            "Requirement already satisfied: pytz>=2020.1 in /usr/local/lib/python3.11/dist-packages (from pandas>=1.4.0->geopandas) (2025.2)\n",
            "Requirement already satisfied: tzdata>=2022.7 in /usr/local/lib/python3.11/dist-packages (from pandas>=1.4.0->geopandas) (2025.2)\n",
            "Requirement already satisfied: six>=1.5 in /usr/local/lib/python3.11/dist-packages (from python-dateutil>=2.8.2->pandas>=1.4.0->geopandas) (1.17.0)\n"
          ]
        }
      ],
      "source": [
        "!pip install geopandas rasterio imageio"
      ]
    },
    {
      "cell_type": "code",
      "source": [
        "!unzip -q datos.zip -d datos"
      ],
      "metadata": {
        "id": "zvAmUUcmWsQr"
      },
      "execution_count": null,
      "outputs": []
    },
    {
      "cell_type": "code",
      "source": [
        "# Autor M.Sc. Edwin Calle Condori\n",
        "# ANÁLISIS DE INUNDACIÓN\n",
        "import os\n",
        "import numpy as np\n",
        "import rasterio\n",
        "import geopandas as gpd\n",
        "import pandas as pd\n",
        "from rasterio import features\n",
        "import matplotlib.pyplot as plt\n",
        "import imageio\n",
        "\n",
        "# --- FUNCIONES AUXILIARES ---\n",
        "def calcular_hillshade(dem, azimuth=315, altitude=45):\n",
        "    x, y = np.gradient(dem)\n",
        "    slope = np.pi/2 - np.arctan(np.sqrt(x**2 + y**2))\n",
        "    aspect = np.arctan2(-x, y)\n",
        "    azimuth_rad = np.radians(azimuth)\n",
        "    altitude_rad = np.radians(altitude)\n",
        "\n",
        "    shaded = (np.sin(altitude_rad) * np.sin(slope) +\n",
        "              np.cos(altitude_rad) * np.cos(slope) *\n",
        "              np.cos(azimuth_rad - aspect))\n",
        "\n",
        "    return (shaded * 255).astype(np.uint8)\n",
        "\n",
        "def propagar_inundacion(dem, semillas, nivel_agua, pasos=50):\n",
        "    inundacion = np.zeros_like(dem, dtype=bool)\n",
        "    y_seed, x_seed = np.where(semillas)\n",
        "    puntos_activos = list(zip(y_seed, x_seed))\n",
        "\n",
        "    for _ in range(pasos):\n",
        "        nuevos_puntos = []\n",
        "        for y, x in puntos_activos:\n",
        "            elev_actual = dem[y, x] + nivel_agua\n",
        "\n",
        "            for dy in [-1, 0, 1]:\n",
        "                for dx in [-1, 0, 1]:\n",
        "                    if dy == 0 and dx == 0:\n",
        "                        continue\n",
        "\n",
        "                    ny, nx = y + dy, x + dx\n",
        "\n",
        "                    if 0 <= ny < dem.shape[0] and 0 <= nx < dem.shape[1]:\n",
        "                        condicion = (\n",
        "                            not inundacion[ny, nx] and\n",
        "                            dem[ny, nx] <= elev_actual and\n",
        "                            dem[ny, nx] >= dem[y, x] - 0.5\n",
        "                        )\n",
        "\n",
        "                        if condicion:\n",
        "                            inundacion[ny, nx] = True\n",
        "                            nuevos_puntos.append((ny, nx))\n",
        "\n",
        "        puntos_activos = nuevos_puntos\n",
        "        if not puntos_activos:\n",
        "            break\n",
        "\n",
        "    return inundacion.astype(np.uint8)\n",
        "\n",
        "# --- CONFIGURACIÓN DE RUTAS PARA COLAB ---\n",
        "ROOT_DIR = \"/content/datos\"\n",
        "INPUT_DIR = os.path.join(ROOT_DIR, \"datos\")\n",
        "OUTPUT_DIR = os.path.join(ROOT_DIR, \"resultados\")\n",
        "\n",
        "# Crear carpetas de resultados\n",
        "os.makedirs(OUTPUT_DIR, exist_ok=True)\n",
        "for subdir in ['rasters', 'vectores', 'logs', 'animacion']:\n",
        "    os.makedirs(os.path.join(OUTPUT_DIR, subdir), exist_ok=True)\n",
        "\n",
        "# --- CARGA DE DATOS ---\n",
        "with rasterio.open(os.path.join(INPUT_DIR, \"raster\", \"dem.tif\")) as src:\n",
        "    dem = src.read(1)\n",
        "    meta = src.meta.copy()\n",
        "    transform = src.transform\n",
        "    crs = src.crs\n",
        "\n",
        "with rasterio.open(os.path.join(INPUT_DIR, \"raster\", \"cuenca.tif\")) as src:\n",
        "    cuenca = src.read(1)\n",
        "    cuenca = np.where(cuenca > 0, 1, 0)\n",
        "\n",
        "gdf_rio = gpd.read_file(os.path.join(INPUT_DIR, \"vector\", \"rio.shp\")).to_crs(crs)\n",
        "rio_mask = features.rasterize(\n",
        "    [(geom, 1) for geom in gdf_rio.geometry],\n",
        "    out_shape=dem.shape,\n",
        "    transform=transform\n",
        ")\n",
        "\n",
        "# --- PROCESAMIENTO PRINCIPAL ---\n",
        "hillshade = calcular_hillshade(dem)\n",
        "meta_hillshade = meta.copy()\n",
        "meta_hillshade.update({'dtype': 'uint8', 'nodata': 0})\n",
        "\n",
        "with rasterio.open(os.path.join(OUTPUT_DIR, 'rasters', 'hillshade.tif'), 'w', **meta_hillshade) as dst:\n",
        "    dst.write(hillshade, 1)\n",
        "\n",
        "niveles_agua = np.arange(0, 2, 0.2)\n",
        "log_data = []\n",
        "meta_inundacion = meta.copy()\n",
        "meta_inundacion.update({'dtype': 'uint8', 'nodata': 0})\n",
        "\n",
        "for i, nivel in enumerate(niveles_agua):\n",
        "    semillas = (rio_mask == 1) & (dem <= (dem + nivel))\n",
        "    inundacion = propagar_inundacion(dem, semillas, nivel)\n",
        "    inundacion = inundacion * cuenca\n",
        "\n",
        "    with rasterio.open(os.path.join(OUTPUT_DIR, 'rasters', f'inundacion_{nivel:.1f}m.tif'), 'w', **meta_inundacion) as dst:\n",
        "        dst.write(inundacion, 1)\n",
        "\n",
        "    area_m2 = np.sum(inundacion) * abs(transform[0])**2\n",
        "    log_data.append([nivel, area_m2, area_m2/1e6, f'inundacion_{nivel:.1f}m.tif'])\n",
        "\n",
        "    fig, ax = plt.subplots(figsize=(12, 8))\n",
        "    ax.imshow(hillshade, cmap='gray', alpha=0.4)\n",
        "    ax.imshow(dem, cmap='terrain', alpha=0.6)\n",
        "    ax.imshow(inundacion, cmap='Blues', alpha=0.5)\n",
        "    ax.set_title(f'Nivel: {nivel:.1f}m | Área: {area_m2/1e6:.2f} km²')\n",
        "    ax.axis('off')\n",
        "\n",
        "    plt.savefig(os.path.join(OUTPUT_DIR, 'animacion', f'frame_{i:03d}.png'), dpi=150, bbox_inches='tight')\n",
        "    plt.close()\n",
        "\n",
        "df_log = pd.DataFrame(log_data, columns=['Nivel_agua(m)', 'Area_m2', 'Area_km2', 'Archivo'])\n",
        "df_log.to_csv(os.path.join(OUTPUT_DIR, 'logs', 'log_inundacion.csv'), index=False)\n",
        "\n",
        "archivos_inundacion = [f for f in os.listdir(os.path.join(OUTPUT_DIR, 'rasters')) if f.startswith('inundacion_')]\n",
        "inundacion_max = np.max([rasterio.open(os.path.join(OUTPUT_DIR, 'rasters', f)).read(1) for f in archivos_inundacion], axis=0)\n",
        "\n",
        "with rasterio.open(os.path.join(OUTPUT_DIR, 'rasters', 'inundacion_maxima.tif'), 'w', **meta_inundacion) as dst:\n",
        "    dst.write(inundacion_max, 1)\n",
        "\n",
        "archivos_animacion = [os.path.join(OUTPUT_DIR, 'animacion', f'frame_{i:03d}.png') for i in range(len(niveles_agua))]\n",
        "\n",
        "with imageio.get_writer(os.path.join(OUTPUT_DIR, 'inundacion_animacion.gif'),\n",
        "                        mode='I', duration=300, loop=0) as writer:\n",
        "    for archivo in archivos_animacion:\n",
        "        image = imageio.v2.imread(archivo)\n",
        "        writer.append_data(image)\n",
        "\n",
        "print(\"✅ Proceso completado exitosamente!\")\n",
        "print(f\"📂 Resultados guardados en: {OUTPUT_DIR}\")"
      ],
      "metadata": {
        "colab": {
          "base_uri": "https://localhost:8080/",
          "height": 383
        },
        "id": "j6cBbyYEW0by",
        "outputId": "db94bcb4-2042-469b-8e1f-84874425b592"
      },
      "execution_count": 1,
      "outputs": [
        {
          "output_type": "error",
          "ename": "ModuleNotFoundError",
          "evalue": "No module named 'rasterio'",
          "traceback": [
            "\u001b[0;31m---------------------------------------------------------------------------\u001b[0m",
            "\u001b[0;31mModuleNotFoundError\u001b[0m                       Traceback (most recent call last)",
            "\u001b[0;32m<ipython-input-1-8296c8fb2b33>\u001b[0m in \u001b[0;36m<cell line: 0>\u001b[0;34m()\u001b[0m\n\u001b[1;32m      3\u001b[0m \u001b[0;32mimport\u001b[0m \u001b[0mos\u001b[0m\u001b[0;34m\u001b[0m\u001b[0;34m\u001b[0m\u001b[0m\n\u001b[1;32m      4\u001b[0m \u001b[0;32mimport\u001b[0m \u001b[0mnumpy\u001b[0m \u001b[0;32mas\u001b[0m \u001b[0mnp\u001b[0m\u001b[0;34m\u001b[0m\u001b[0;34m\u001b[0m\u001b[0m\n\u001b[0;32m----> 5\u001b[0;31m \u001b[0;32mimport\u001b[0m \u001b[0mrasterio\u001b[0m\u001b[0;34m\u001b[0m\u001b[0;34m\u001b[0m\u001b[0m\n\u001b[0m\u001b[1;32m      6\u001b[0m \u001b[0;32mimport\u001b[0m \u001b[0mgeopandas\u001b[0m \u001b[0;32mas\u001b[0m \u001b[0mgpd\u001b[0m\u001b[0;34m\u001b[0m\u001b[0;34m\u001b[0m\u001b[0m\n\u001b[1;32m      7\u001b[0m \u001b[0;32mimport\u001b[0m \u001b[0mpandas\u001b[0m \u001b[0;32mas\u001b[0m \u001b[0mpd\u001b[0m\u001b[0;34m\u001b[0m\u001b[0;34m\u001b[0m\u001b[0m\n",
            "\u001b[0;31mModuleNotFoundError\u001b[0m: No module named 'rasterio'",
            "",
            "\u001b[0;31m---------------------------------------------------------------------------\u001b[0;32m\nNOTE: If your import is failing due to a missing package, you can\nmanually install dependencies using either !pip or !apt.\n\nTo view examples of installing some common dependencies, click the\n\"Open Examples\" button below.\n\u001b[0;31m---------------------------------------------------------------------------\u001b[0m\n"
          ],
          "errorDetails": {
            "actions": [
              {
                "action": "open_url",
                "actionText": "Open Examples",
                "url": "/notebooks/snippets/importing_libraries.ipynb"
              }
            ]
          }
        }
      ]
    }
  ]
}